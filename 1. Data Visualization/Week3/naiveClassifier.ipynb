{
 "cells": [
  {
   "cell_type": "code",
   "execution_count": 1,
   "metadata": {
    "collapsed": true
   },
   "outputs": [],
   "source": [
    "# from sklearn import naive_bayes\n",
    "# clfrNB= naive_bayes.MultinomialNB()\n",
    "# clfrNB.fit(train_data, train_labels)\n",
    "# predicted_labels= clfrNB.predict(test_data)\n",
    "# metrics.f1_score(test_labels,predicted_labels,average='micro')"
   ]
  },
  {
   "cell_type": "code",
   "execution_count": null,
   "metadata": {
    "collapsed": true
   },
   "outputs": [],
   "source": [
    "# from sklearn import svm\n",
    "# clfrSVM= svm.SVC(kernal='linear',C=0.1)\n",
    "# clfrSVM.fit(train_data, train_labels)\n",
    "# predicted_labels= clfrSVM.predict(test_data)\n",
    "# metrics.f1_score(test_labels,predicted_labels,average='micro')"
   ]
  },
  {
   "cell_type": "code",
   "execution_count": null,
   "metadata": {
    "collapsed": true
   },
   "outputs": [],
   "source": [
    "# from sklearn import model_selection\n",
    "# X_train, X_test, y_train, y_test =\n",
    "#  model_selection.train_test_split( train_data,train_labels,\n",
    "#                        test_size=0.333, random_state=0)\n",
    "    \n",
    "    \n",
    "# predicted_labels=model_selection.cross_val_predict(clfrSVM,\n",
    "#     train_data,train_models,cv=5)"
   ]
  },
  {
   "cell_type": "code",
   "execution_count": null,
   "metadata": {
    "collapsed": true
   },
   "outputs": [],
   "source": []
  }
 ],
 "metadata": {
  "kernelspec": {
   "display_name": "Python 3",
   "language": "python",
   "name": "python3"
  },
  "language_info": {
   "codemirror_mode": {
    "name": "ipython",
    "version": 3
   },
   "file_extension": ".py",
   "mimetype": "text/x-python",
   "name": "python",
   "nbconvert_exporter": "python",
   "pygments_lexer": "ipython3",
   "version": "3.6.2"
  }
 },
 "nbformat": 4,
 "nbformat_minor": 2
}
