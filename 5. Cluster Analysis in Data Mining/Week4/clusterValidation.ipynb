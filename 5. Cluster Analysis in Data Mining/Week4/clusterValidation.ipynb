{
 "cells": [
  {
   "cell_type": "code",
   "execution_count": 1,
   "metadata": {},
   "outputs": [],
   "source": [
    "import pandas as pd\n",
    "import numpy as np\n",
    "from collections import Counter\n",
    "from scipy.special import comb"
   ]
  },
  {
   "cell_type": "code",
   "execution_count": 2,
   "metadata": {},
   "outputs": [],
   "source": [
    "def Entropy(label):\n",
    "    count_dict = Counter(label)\n",
    "    total = label.count()\n",
    "    H = 0\n",
    "    for value in count_dict.values():\n",
    "        p = value/total\n",
    "        H-= p *np.log(p)\n",
    "    return H"
   ]
  },
  {
   "cell_type": "code",
   "execution_count": 3,
   "metadata": {},
   "outputs": [],
   "source": [
    "def Mutual_information(cluster_label,truth_label):\n",
    "    cluster_dict = Counter(cluster_label)\n",
    "    truth_dict = Counter(truth_label)\n",
    "    total = cluster_label.count()\n",
    "    in_label = [(c,t) for c,t in zip(cluster_label,truth_label)]\n",
    "    in_dict = Counter(in_label)\n",
    "    I = 0\n",
    "    for k,v in in_dict.items():\n",
    "        c,t = k\n",
    "        pij = v/total\n",
    "        pc = cluster_dict[c]/total\n",
    "        pt = truth_dict[t]/total\n",
    "        I += pij*np.log(pij/(pc*pt))\n",
    "    return I"
   ]
  },
  {
   "cell_type": "code",
   "execution_count": 4,
   "metadata": {},
   "outputs": [],
   "source": [
    "def NMI(cluster_label,truth_label):\n",
    "    I = Mutual_information(cluster_label,truth_label)\n",
    "    H_c = Entropy(cluster_label)\n",
    "    H_t = Entropy(truth_label)\n",
    "    return I/np.sqrt(H_c*H_t)"
   ]
  },
  {
   "cell_type": "code",
   "execution_count": 5,
   "metadata": {},
   "outputs": [],
   "source": [
    "def Jaccard_coef(cluster_label,truth_label):\n",
    "    cluster_dict = Counter(cluster_label)\n",
    "    truth_dict = Counter(truth_label)\n",
    "    total = cluster_label.count()\n",
    "    in_label = [(c,t) for c,t in zip(cluster_label,truth_label)]\n",
    "    in_dict = Counter(in_label)\n",
    "    TP = 0\n",
    "    for k,v in in_dict.items():\n",
    "        TP += v**2\n",
    "    TP  = 0.5*(TP - total)\n",
    "    FN = 0\n",
    "    for k,v in cluster_dict.items():\n",
    "        FN += comb(v,2)\n",
    "    FN -= TP\n",
    "    FP = 0\n",
    "    for k,v in truth_dict.items():\n",
    "        FP += comb(v,2)\n",
    "    FP -= TP\n",
    "    Jaccard = TP/(TP+FN+FP)\n",
    "    return Jaccard"
   ]
  },
  {
   "cell_type": "code",
   "execution_count": 6,
   "metadata": {},
   "outputs": [],
   "source": [
    "truth = pd.read_csv('D:\\Dataset\\Cluster_vadilation_data\\partitions.txt',sep=' ',names=['id','label'],index_col=['id'])\n",
    "clusters = []\n",
    "for i in range(1,6):\n",
    "    filename = str(i).join(['D:\\Dataset\\Cluster_vadilation_data\\clustering_','.txt'])\n",
    "    clusters.append(pd.read_csv(filename ,sep=' ',names=['id','label'],index_col=['id']))"
   ]
  },
  {
   "cell_type": "code",
   "execution_count": 7,
   "metadata": {},
   "outputs": [],
   "source": [
    "NMI_score = [NMI(cluster['label'],truth['label']) for cluster in clusters]\n",
    "Jaccard_score = [Jaccard_coef(cluster['label'],truth['label']) for cluster in clusters]"
   ]
  },
  {
   "cell_type": "code",
   "execution_count": 8,
   "metadata": {},
   "outputs": [],
   "source": [
    "scores = pd.DataFrame({'NMI':NMI_score,'Jaccard':Jaccard_score},columns=['NMI','Jaccard'])\n",
    "scores.to_csv('D:\\scores.txt',sep=' ',header=False,index=False)"
   ]
  },
  {
   "cell_type": "code",
   "execution_count": null,
   "metadata": {},
   "outputs": [],
   "source": []
  }
 ],
 "metadata": {
  "kernelspec": {
   "display_name": "Python 3",
   "language": "python",
   "name": "python3"
  },
  "language_info": {
   "codemirror_mode": {
    "name": "ipython",
    "version": 3
   },
   "file_extension": ".py",
   "mimetype": "text/x-python",
   "name": "python",
   "nbconvert_exporter": "python",
   "pygments_lexer": "ipython3",
   "version": "3.8.3"
  }
 },
 "nbformat": 4,
 "nbformat_minor": 4
}
